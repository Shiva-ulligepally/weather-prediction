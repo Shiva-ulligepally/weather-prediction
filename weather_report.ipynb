{
  "nbformat": 4,
  "nbformat_minor": 0,
  "metadata": {
    "colab": {
      "provenance": [],
      "authorship_tag": "ABX9TyPe6rU/4NKomIMxC3BCw8h+",
      "include_colab_link": true
    },
    "kernelspec": {
      "name": "python3",
      "display_name": "Python 3"
    },
    "language_info": {
      "name": "python"
    }
  },
  "cells": [
    {
      "cell_type": "markdown",
      "metadata": {
        "id": "view-in-github",
        "colab_type": "text"
      },
      "source": [
        "<a href=\"https://colab.research.google.com/github/Shiva-ulligepally/weather-prediction/blob/main/weather_report.ipynb\" target=\"_parent\"><img src=\"https://colab.research.google.com/assets/colab-badge.svg\" alt=\"Open In Colab\"/></a>"
      ]
    },
    {
      "cell_type": "code",
      "execution_count": null,
      "metadata": {
        "colab": {
          "base_uri": "https://localhost:8080/"
        },
        "id": "eOGjvQas1nXO",
        "outputId": "5316216d-6e91-4fac-ae06-3e6d86a2abcf"
      },
      "outputs": [
        {
          "output_type": "stream",
          "name": "stdout",
          "text": [
            "<class 'pandas.core.frame.DataFrame'>\n",
            "RangeIndex: 1095 entries, 0 to 1094\n",
            "Data columns (total 12 columns):\n",
            " #   Column                  Non-Null Count  Dtype  \n",
            "---  ------                  --------------  -----  \n",
            " 0   number                  1095 non-null   int64  \n",
            " 1   air_pressure_9am        1092 non-null   float64\n",
            " 2   air_temp_9am            1090 non-null   float64\n",
            " 3   avg_wind_direction_9am  1091 non-null   float64\n",
            " 4   avg_wind_speed_9am      1092 non-null   float64\n",
            " 5   max_wind_direction_9am  1092 non-null   float64\n",
            " 6   max_wind_speed_9am      1091 non-null   float64\n",
            " 7   rain_accumulation_9am   1089 non-null   float64\n",
            " 8   rain_duration_9am       1092 non-null   float64\n",
            " 9   relative_humidity_9am   1095 non-null   float64\n",
            " 10  relative_humidity_3pm   1095 non-null   float64\n",
            " 11  Unnamed: 11             0 non-null      float64\n",
            "dtypes: float64(11), int64(1)\n",
            "memory usage: 102.8 KB\n",
            "Model Accuracy:86.63%\n"
          ]
        }
      ],
      "source": [
        "import pandas as pd\n",
        "import numpy as np\n",
        "from sklearn.model_selection import train_test_split\n",
        "from sklearn.tree import DecisionTreeClassifier\n",
        "from sklearn.metrics import accuracy_score\n",
        "data=pd.read_csv(\"/content/daily_weather.csv\")\n",
        "data.head()\n",
        "data.describe()\n",
        "data.info()\n",
        "data.fillna(data.mean(), inplace=True)\n",
        "data['humidity_3pm']=np.where(data['relative_humidity_3pm']< 25 , 0, 1)\n",
        "x=data[['number', 'air_pressure_9am','air_temp_9am' ,'avg_wind_direction_9am', 'avg_wind_speed_9am','max_wind_direction_9am', 'max_wind_speed_9am', 'rain_accumulation_9am', 'rain_duration_9am','relative_humidity_9am']]\n",
        "y=data['humidity_3pm']\n",
        "x_train, x_test, y_train, y_test=train_test_split(x,y, test_size=0.3, random_state=42)\n",
        "model=DecisionTreeClassifier(random_state=42)\n",
        "model.fit(x_train, y_train)\n",
        "y_pred=model.predict(x_test)\n",
        "\n",
        "accuracy=accuracy_score(y_test, y_pred)\n",
        "print(f'Model Accuracy:{accuracy * 100:.2f}%')"
      ]
    }
  ]
}